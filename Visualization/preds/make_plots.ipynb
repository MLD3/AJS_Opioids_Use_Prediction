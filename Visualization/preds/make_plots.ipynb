{
 "cells": [
  {
   "cell_type": "code",
   "execution_count": 1,
   "metadata": {},
   "outputs": [],
   "source": [
    "import matplotlib\n",
    "from matplotlib import pyplot as plt\n",
    "import matplotlib.patches as mpatches\n",
    "import numpy as np\n",
    "import pandas as pd\n",
    "from sklearn import metrics, utils\n",
    "from joblib import Parallel, delayed\n",
    "from tqdm import tqdm#_notebook as tqdm\n",
    "import scipy\n",
    "import scipy.special\n",
    "import itertools\n",
    "import yaml"
   ]
  },
  {
   "cell_type": "code",
   "execution_count": 2,
   "metadata": {},
   "outputs": [],
   "source": [
    "import matplotlib\n",
    "matplotlib.rcParams['font.family']\n",
    "matplotlib.rcParams['font.sans-serif'] = ['Arial']"
   ]
  },
  {
   "cell_type": "code",
   "execution_count": 15,
   "metadata": {},
   "outputs": [],
   "source": [
    "path = './'\n",
    "\n",
    "def get_ys(model_name, outcome):\n",
    "    y_true = np.load(path + outcome + '_test.npy')\n",
    "    y_score = None\n",
    "    if model_name == 'xgb' or model_name == 'linear_svc':\n",
    "        y_score = np.load(path + model_name + '_' + outcome + '_y_score.npy')\n",
    "    else:\n",
    "        y_score = np.load(path + model_name + '_' + outcome + '_y_score.npz')['y_score']      \n",
    "    return y_true, y_score\n",
    "\n",
    "def get_roc_CI(y_true, y_score):\n",
    "    def bootstrap_func(i, y_true, y_score):\n",
    "        yte_true_b, yte_pred_b = utils.resample(y_true, y_score, replace=True, random_state=i)\n",
    "        return metrics.roc_curve(yte_true_b, yte_pred_b), metrics.roc_auc_score(yte_true_b, yte_pred_b)\n",
    "    roc_curves, auc_scores = zip(*Parallel(n_jobs=4)(delayed(bootstrap_func)(i, y_true, y_score) for i in range(1000)))\n",
    "        # roc_curves, auc_scores = [], []\n",
    "        # for i in range(1000):\n",
    "        #     yte_true_b, yte_pred_b = utils.resample(y_true, y_score, replace=True, random_state=i)\n",
    "        #     roc_curves.append(metrics.roc_curve(yte_true_b, yte_pred_b))\n",
    "        #     auc_scores.append(metrics.roc_auc_score(yte_true_b, yte_pred_b))\n",
    "    print('Test AUC: {:.3f}'.format(metrics.roc_auc_score(y_true, y_score)))\n",
    "    print('Test AUC: ({:.3f}, {:.3f}) percentile 95% CI'.format(np.percentile(auc_scores, 2.5), np.percentile(auc_scores, 97.5)))\n",
    "#         print('Test AUC: {:.3f} ({:.3f}, {:.3f}) percentile'.format(np.median(auc_scores), np.percentile(auc_scores, 2.5), np.percentile(auc_scores, 97.5)))\n",
    "#         print('Test AUC: {:.3f} ({:.3f}, {:.3f}) empirical'.format(np.mean(auc_scores), np.mean(auc_scores) - 1.96 * np.std(auc_scores), np.mean(auc_scores) + 1.96 * np.std(auc_scores)))\n",
    "#         print('Test AUC: {:.3f} ± {:.3f} SE'.format(np.mean(auc_scores), np.std(auc_scores)))\n",
    "        \n",
    "    tprs = []\n",
    "    aucs = []\n",
    "    mean_fpr = np.linspace(0, 1, 100)\n",
    "    for fpr, tpr, _ in roc_curves:\n",
    "        tprs.append(scipy.interp(mean_fpr, fpr, tpr))\n",
    "        tprs[-1][0] = 0.0\n",
    "        aucs.append(metrics.auc(fpr, tpr))\n",
    "\n",
    "    mean_tpr = np.mean(tprs, axis=0)\n",
    "    std_tpr = np.std(tprs, axis=0)\n",
    "    tprs_upper = np.minimum(mean_tpr + 1.96 * std_tpr, 1)\n",
    "    tprs_lower = np.maximum(mean_tpr - 1.96 * std_tpr, 0)\n",
    "    return roc_curves, auc_scores, mean_fpr, tprs_lower, tprs_upper\n",
    "\n",
    "def graph_ROC(model_name, outcome):\n",
    "    y_true, y_score = get_ys(model_name, outcome)\n",
    "    \n",
    "    fpr, tpr, _ = metrics.roc_curve(y_true, y_score)\n",
    "    \n",
    "    roc_curves, auc_scores, mean_fpr, tprs_lower, tprs_upper = get_roc_CI(y_true, y_score)\n",
    "    \n",
    "    fig, ax = plt.subplots(figsize=(3, 3))\n",
    "    \n",
    "    plt.plot(fpr, tpr, '-', color='blue')\n",
    "    plt.plot(mean_fpr, tprs_lower, '--', color='skyblue')\n",
    "    plt.plot(mean_fpr, tprs_upper, '--', color='skyblue')\n",
    "    \n",
    "    # random dashed line\n",
    "    plt.plot([0,0.5,1],[0,0.5,1],'--',color='black')\n",
    "    \n",
    "    plt.xlim(0,1)\n",
    "    plt.ylim(0,1)\n",
    "    \n",
    "    plt.xlabel(\"False Positive Rate\")\n",
    "    plt.ylabel(\"True Positive Rate\")\n",
    "    plt.gca().set_aspect('equal', adjustable='box')\n",
    "    \n",
    "    plt_title = 'ROC of ' + model_name + ' on outcome ' +  outcome\n",
    "    plt_title = plt_title.replace(\"_\",\" \",1)\n",
    "    plt_title = plt_title.replace(\"linear_svc\",\"linear model\",1)\n",
    "    plt_title = plt_title.replace(\"xgb\",\"non-linear model\",1)\n",
    "    #patches = [mpatches.Patch(color='blue', label='Baseline Features'),\n",
    "    #           mpatches.Patch(color='magenta', label='All Features')]\n",
    "               \n",
    "    #plt.legend(handles=patches)\n",
    "    \n",
    "    \n",
    "    #plt.title(plt_title)\n",
    "    # plotting code ...\n",
    "    plt.tight_layout()\n",
    "    plt.savefig(path + \"/figs/\" + plt_title + '.svg', format='svg')\n",
    "    #plt.show()\n",
    "    #plt.close()\n",
    "\n",
    "def get_pr_CI(y_true, y_score):\n",
    "    def bootstrap_func(i, y_true, y_score):\n",
    "        yte_true_b, yte_pred_b = utils.resample(y_true, y_score, replace=True, random_state=i)\n",
    "        return (\n",
    "            metrics.precision_recall_curve(yte_true_b, yte_pred_b), \n",
    "            metrics.auc(*metrics.precision_recall_curve(yte_true_b, yte_pred_b)[1::-1])\n",
    "        )\n",
    "    curves, scores = zip(*Parallel(n_jobs=4)(delayed(bootstrap_func)(i, y_true, y_score) for i in range(1000)))\n",
    "    print('Test AUPR: {:.3f}'.format(metrics.auc(*metrics.precision_recall_curve(y_true, y_score)[1::-1])))\n",
    "    print('Test AUPR: ({:.3f}, {:.3f}) percentile 95% CI'.format(np.percentile(scores, 2.5), np.percentile(scores, 97.5)))\n",
    "#         print('Test AUPR: {:.3f} ({:.3f}, {:.3f}) percentile'.format(np.median(scores), np.percentile(scores, 2.5), np.percentile(scores, 97.5)))\n",
    "#         print('Test AUPR: {:.3f} ({:.3f}, {:.3f}) empirical'.format(np.mean(scores), np.mean(scores) - 1.96 * np.std(scores), np.mean(scores) + 1.96 * np.std(scores)))\n",
    "#         print('Test AUPR: {:.3f} ± {:.3f} SE'.format(np.mean(scores), np.std(scores)))\n",
    "        \n",
    "    precs = []\n",
    "    mean_rec = np.linspace(0, 1, 101)\n",
    "    for prec, rec, _ in curves:\n",
    "        rec_sorted, prec_sorted = rec[np.argsort(rec)], prec[np.argsort(rec)]\n",
    "        precs.append(np.interp(mean_rec, rec_sorted, prec_sorted))\n",
    "        \n",
    "    mean_prec = np.mean(precs, axis=0)\n",
    "    std_prec = np.std(precs, axis=0)\n",
    "    prec_upper = np.minimum(mean_prec + 1.96 * std_prec, 1)\n",
    "    prec_lower = np.maximum(mean_prec - 1.96 * std_prec, 0)\n",
    "    return curves, scores, mean_rec, prec_lower, prec_upper\n",
    "\n",
    "def graph_PR(model_name, outcome):\n",
    "    y_true, y_score = get_ys(model_name, outcome)\n",
    "    \n",
    "    precision, recall, _ = metrics.precision_recall_curve(y_true, y_score)\n",
    "    \n",
    "    curves, scores, mean_rec, prec_lower, prec_upper = get_pr_CI(y_true, y_score)\n",
    "    \n",
    "    fig, ax = plt.subplots(figsize=(3, 3))\n",
    "    \n",
    "    plt.plot(recall, precision, '-', color='blue')\n",
    "    plt.plot(mean_rec, prec_lower, '--', color='skyblue')\n",
    "    plt.plot(mean_rec, prec_upper, '--', color='skyblue')\n",
    "    \n",
    "    plt.xlim(0,1)\n",
    "    plt.ylim(0,1)\n",
    "    \n",
    "    plt.xlabel(\"Recall\")\n",
    "    plt.ylabel(\"Precision\")\n",
    "    plt.gca().set_aspect('equal', adjustable='box')\n",
    "    \n",
    "    plt_title = 'PR of ' + model_name + ' on outcome ' +  outcome\n",
    "    plt_title = plt_title.replace(\"_\",\" \",1)\n",
    "    plt_title = plt_title.replace(\"linear_svc\",\"linear model\",1)\n",
    "    plt_title = plt_title.replace(\"xgb\",\"non-linear model\",1)\n",
    "    patches = [mpatches.Patch(color='blue', label='Baseline Features'),\n",
    "               mpatches.Patch(color='magenta', label='All Features')]\n",
    "               \n",
    "    plt.legend(handles=patches, loc=\"top right\")\n",
    "    \n",
    "    \n",
    "    #plt.title(plt_title)\n",
    "    # plotting code ...\n",
    "    plt.tight_layout()\n",
    "    plt.savefig(path + \"/figs/\" + plt_title + '.svg', format='svg')\n",
    "    #plt.show()\n",
    "    #plt.close()\n",
    "\n",
    "def graph_PR_multiple_model(model_names, outcome):\n",
    "    color_schemes_by_outcome = {\n",
    "        'refill' : [['forestgreen', 'limegreen'], ['blue', 'skyblue']],\n",
    "        'prolonged_use' : [['purple', 'magenta'], ['orangered', 'coral']]\n",
    "        }\n",
    "\n",
    "    color_schemes = color_schemes_by_outcome[outcome]\n",
    "\n",
    "    fig, ax = plt.subplots(figsize=(3, 3))\n",
    "\n",
    "    for model_name, color_scheme in zip(model_names, color_schemes):\n",
    "        print(model_name)\n",
    "        y_true, y_score = get_ys(model_name, outcome)\n",
    "    \n",
    "        precision, recall, _ = metrics.precision_recall_curve(y_true, y_score)\n",
    "    \n",
    "        curves, scores, mean_rec, prec_lower, prec_upper = get_pr_CI(y_true, y_score)\n",
    "        \n",
    "        plt.plot(recall, precision, '-', color=color_scheme[0], alpha=0.7)\n",
    "        plt.plot(mean_rec, prec_lower, '--', color=color_scheme[1], alpha=0.7)\n",
    "        plt.plot(mean_rec, prec_upper, '--', color=color_scheme[1], alpha=0.7)\n",
    "    \n",
    "    # random dashed line\n",
    "    #plt.plot([0,0.5,1],[0,0.5,1],'--',color='black')\n",
    "    \n",
    "    plt.xlim(0,1)\n",
    "    plt.ylim(0,1)\n",
    "    \n",
    "    plt.xlabel(\"Recall\")\n",
    "    plt.ylabel(\"Precision\")\n",
    "    plt.gca().set_aspect('equal', adjustable='box')\n",
    "    \n",
    "    plt_title = 'PR ' +  outcome\n",
    "    plt_title = plt_title.replace(\"_\",\" \",1)\n",
    "\n",
    "    patches = [mpatches.Patch(color=color_schemes[1][0], label=\"SVM\"),\n",
    "               mpatches.Patch(color=color_schemes[0][0], label=\"XGB\"),\n",
    "               ]\n",
    "               \n",
    "    plt.legend(handles=patches, loc=\"upper right\", title=outcome.replace(\"_\", \" \"))\n",
    "    \n",
    "    #plt.title(plt_title)\n",
    "    # plotting code ...\n",
    "    plt.tight_layout()\n",
    "    plt.savefig(path + \"/figs/\" + plt_title + '.svg', format='svg')\n",
    "    #plt.show()\n",
    "    #plt.close()\n",
    "\n",
    "def graph_ROC_multiple_model(model_names, outcome):\n",
    "    \n",
    "    color_schemes_by_outcome = {\n",
    "        'refill' : [['forestgreen', 'limegreen'], ['blue', 'skyblue']],\n",
    "        'prolonged_use' : [['purple', 'magenta'], ['orangered', 'coral']]\n",
    "        }\n",
    "\n",
    "    color_schemes = color_schemes_by_outcome[outcome]\n",
    "\n",
    "    fig, ax = plt.subplots(figsize=(3, 3))\n",
    "\n",
    "    for model_name, color_scheme in zip(model_names, color_schemes):\n",
    "        print(model_name)\n",
    "        y_true, y_score = get_ys(model_name, outcome)\n",
    "    \n",
    "        fpr, tpr, _ = metrics.roc_curve(y_true, y_score)\n",
    "    \n",
    "        roc_curves, auc_scores, mean_fpr, tprs_lower, tprs_upper = get_roc_CI(y_true, y_score)\n",
    "    \n",
    "        plt.plot(fpr, tpr, '-', color=color_scheme[0], alpha=0.7)\n",
    "        plt.plot(mean_fpr, tprs_lower, '--', color=color_scheme[1], alpha=0.7)\n",
    "        plt.plot(mean_fpr, tprs_upper, '--', color=color_scheme[1], alpha=0.7)\n",
    "    \n",
    "    # random dashed line\n",
    "    plt.plot([0,0.5,1],[0,0.5,1],'--',color='black')\n",
    "    \n",
    "    plt.xlim(0,1)\n",
    "    plt.ylim(0,1)\n",
    "    \n",
    "    plt.xlabel(\"False Positive Rate\")\n",
    "    plt.ylabel(\"True Positive Rate\")\n",
    "    plt.gca().set_aspect('equal', adjustable='box')\n",
    "    \n",
    "    plt_title = 'ROC ' +  outcome\n",
    "    plt_title = plt_title.replace(\"_\",\" \",1)\n",
    "\n",
    "    patches = [#mpatches.Patch(color='w', label='Model            AUROC (95% CI)'),\n",
    "               mpatches.Patch(color=color_schemes[1][0], label=\"SVM\"),\n",
    "               mpatches.Patch(color=color_schemes[0][0], label=\"XGB\"),\n",
    "               ]\n",
    "    \n",
    "    plt.legend(handles=patches, loc=\"lower right\", title=outcome.replace(\"_\", \" \"))\n",
    "#     plt.legend(handles=patches, title=outcome.replace(\"_\", \" \"), bbox_to_anchor=(0.5, -0.4), loc='center')\n",
    "\n",
    "    \n",
    "    #plt.title(plt_title)\n",
    "    # plotting code ...\n",
    "    plt.tight_layout()\n",
    "    plt.savefig(path + \"/figs/\" + plt_title + '.svg', format='svg')\n",
    "    #plt.show()\n",
    "    #plt.close()"
   ]
  },
  {
   "cell_type": "code",
   "execution_count": 16,
   "metadata": {},
   "outputs": [
    {
     "name": "stdout",
     "output_type": "stream",
     "text": [
      "xgb\n",
      "Test AUC: 0.660\n",
      "Test AUC: (0.642, 0.675) percentile 95% CI\n",
      "linear_svc\n"
     ]
    },
    {
     "name": "stderr",
     "output_type": "stream",
     "text": [
      "<ipython-input-15-35d66de69fbf>:32: DeprecationWarning: scipy.interp is deprecated and will be removed in SciPy 2.0.0, use numpy.interp instead\n",
      "  tprs.append(scipy.interp(mean_fpr, fpr, tpr))\n"
     ]
    },
    {
     "name": "stdout",
     "output_type": "stream",
     "text": [
      "Test AUC: 0.660\n",
      "Test AUC: (0.643, 0.675) percentile 95% CI\n"
     ]
    },
    {
     "name": "stderr",
     "output_type": "stream",
     "text": [
      "<ipython-input-15-35d66de69fbf>:32: DeprecationWarning: scipy.interp is deprecated and will be removed in SciPy 2.0.0, use numpy.interp instead\n",
      "  tprs.append(scipy.interp(mean_fpr, fpr, tpr))\n"
     ]
    },
    {
     "data": {
      "image/png": "[encoded data removed]",
      "text/plain": [
       "<Figure size 216x216 with 1 Axes>"
      ]
     },
     "metadata": {
      "needs_background": "light"
     },
     "output_type": "display_data"
    }
   ],
   "source": [
    "model_names = ['xgb', 'linear_svc']\n",
    "\n",
    "graph_ROC_multiple_model(model_names, outcome='prolonged_use')\n",
    "graph_ROC_multiple_model(model_names, outcome='refill')\n",
    "graph_PR_multiple_model(model_names, outcome='prolonged_use')\n",
    "graph_PR_multiple_model(model_names, outcome='refill')\n",
    "\n",
    "#graph_ROC(model_name='xgb', outcome='prolonged_use')\n",
    "#graph_ROC(model_name='xgb', outcome='refill')\n",
    "\n",
    "#graph_ROC(model_name='linear_svc', outcome='prolonged_use')\n",
    "#graph_ROC(model_name='linear_svc', outcome='refill')\n",
    "\n",
    "#graph_ROC(model_name='CNN', outcome='prolonged_use')\n",
    "#graph_ROC(model_name='CNN', outcome='refill')\n",
    "\n",
    "#graph_ROC(model_name='RNN', outcome='prolonged_use')\n",
    "#graph_ROC(model_name='RNN', outcome='refill')\n",
    "\n",
    "#graph_PR(model_name='RNN', outcome='refill')\n",
    "#graph_PR(model_name='RNN', outcome='prolonged_use')\n",
    "\n",
    "#graph_PR(model_name='CNN', outcome='refill')\n",
    "#graph_PR(model_name='CNN', outcome='prolonged_use')\n",
    "\n",
    "#graph_PR(model_name='xgb', outcome='refill')\n",
    "#graph_PR(model_name='xgb', outcome='prolonged_use')\n",
    "\n",
    "#graph_PR(model_name='linear_svc', outcome='refill')\n",
    "#graph_PR(model_name='linear_svc', outcome='prolonged_use')"
   ]
  },
  {
   "cell_type": "code",
   "execution_count": 30,
   "metadata": {},
   "outputs": [
    {
     "name": "stdout",
     "output_type": "stream",
     "text": [
      "Test AUC: 0.666\n",
      "Test AUC: (0.654, 0.678) percentile 95% CI\n"
     ]
    },
    {
     "name": "stderr",
     "output_type": "stream",
     "text": [
      "<ipython-input-12-23974ffcfacc>:32: DeprecationWarning: scipy.interp is deprecated and will be removed in SciPy 2.0.0, use numpy.interp instead\n",
      "  tprs.append(scipy.interp(mean_fpr, fpr, tpr))\n"
     ]
    },
    {
     "name": "stdout",
     "output_type": "stream",
     "text": [
      "Test AUC: 0.681\n",
      "Test AUC: (0.669, 0.693) percentile 95% CI\n"
     ]
    },
    {
     "name": "stderr",
     "output_type": "stream",
     "text": [
      "<ipython-input-12-23974ffcfacc>:32: DeprecationWarning: scipy.interp is deprecated and will be removed in SciPy 2.0.0, use numpy.interp instead\n",
      "  tprs.append(scipy.interp(mean_fpr, fpr, tpr))\n"
     ]
    },
    {
     "data": {
      "text/plain": [
       "0.0"
      ]
     },
     "execution_count": 30,
     "metadata": {},
     "output_type": "execute_result"
    }
   ],
   "source": [
    "y_true, y_score_SVM = get_ys('linear_svc', 'refill')\n",
    "y_true_, y_score_XGB = get_ys('xgb', 'refill')\n",
    "\n",
    "bootstrap_auc_scores_SVM = np.array(get_roc_CI(y_true, y_score_SVM)[1])\n",
    "bootstrap_auc_scores_XGB = np.array(get_roc_CI(y_true, y_score_XGB)[1])\n",
    "\n",
    "pvalue = 2 * min(\n",
    "    (bootstrap_auc_scores_SVM < bootstrap_auc_scores_XGB).mean(),\n",
    "    (bootstrap_auc_scores_SVM > bootstrap_auc_scores_XGB).mean(),\n",
    ")\n",
    "pvalue"
   ]
  },
  {
   "cell_type": "code",
   "execution_count": 31,
   "metadata": {},
   "outputs": [
    {
     "data": {
      "text/plain": [
       "(0.6662063072701175, 0.681080635114122)"
      ]
     },
     "execution_count": 31,
     "metadata": {},
     "output_type": "execute_result"
    }
   ],
   "source": [
    "np.mean(bootstrap_auc_scores_SVM), np.mean(bootstrap_auc_scores_XGB)"
   ]
  },
  {
   "cell_type": "code",
   "execution_count": 32,
   "metadata": {},
   "outputs": [
    {
     "name": "stdout",
     "output_type": "stream",
     "text": [
      "Test AUC: 0.660\n",
      "Test AUC: (0.643, 0.675) percentile 95% CI\n"
     ]
    },
    {
     "name": "stderr",
     "output_type": "stream",
     "text": [
      "<ipython-input-12-23974ffcfacc>:32: DeprecationWarning: scipy.interp is deprecated and will be removed in SciPy 2.0.0, use numpy.interp instead\n",
      "  tprs.append(scipy.interp(mean_fpr, fpr, tpr))\n"
     ]
    },
    {
     "name": "stdout",
     "output_type": "stream",
     "text": [
      "Test AUC: 0.660\n",
      "Test AUC: (0.642, 0.675) percentile 95% CI\n"
     ]
    },
    {
     "name": "stderr",
     "output_type": "stream",
     "text": [
      "<ipython-input-12-23974ffcfacc>:32: DeprecationWarning: scipy.interp is deprecated and will be removed in SciPy 2.0.0, use numpy.interp instead\n",
      "  tprs.append(scipy.interp(mean_fpr, fpr, tpr))\n"
     ]
    },
    {
     "data": {
      "text/plain": [
       "0.808"
      ]
     },
     "execution_count": 32,
     "metadata": {},
     "output_type": "execute_result"
    }
   ],
   "source": [
    "y_true, y_score_SVM = get_ys('linear_svc', 'prolonged_use')\n",
    "y_true_, y_score_XGB = get_ys('xgb', 'prolonged_use')\n",
    "\n",
    "bootstrap_auc_scores_SVM = np.array(get_roc_CI(y_true, y_score_SVM)[1])\n",
    "bootstrap_auc_scores_XGB = np.array(get_roc_CI(y_true, y_score_XGB)[1])\n",
    "\n",
    "pvalue = 2 * min(\n",
    "    (bootstrap_auc_scores_SVM < bootstrap_auc_scores_XGB).mean(),\n",
    "    (bootstrap_auc_scores_SVM > bootstrap_auc_scores_XGB).mean(),\n",
    ")\n",
    "pvalue"
   ]
  },
  {
   "cell_type": "code",
   "execution_count": 33,
   "metadata": {},
   "outputs": [
    {
     "data": {
      "text/plain": [
       "(0.6595761406870354, 0.6590942993482636)"
      ]
     },
     "execution_count": 33,
     "metadata": {},
     "output_type": "execute_result"
    }
   ],
   "source": [
    "np.mean(bootstrap_auc_scores_SVM), np.mean(bootstrap_auc_scores_XGB)"
   ]
  },
  {
   "cell_type": "code",
   "execution_count": null,
   "metadata": {},
   "outputs": [],
   "source": []
  }
 ],
 "metadata": {
  "kernelspec": {
   "display_name": "Python 3",
   "language": "python",
   "name": "python3"
  },
  "language_info": {
   "codemirror_mode": {
    "name": "ipython",
    "version": 3
   },
   "file_extension": ".py",
   "mimetype": "text/x-python",
   "name": "python",
   "nbconvert_exporter": "python",
   "pygments_lexer": "ipython3",
   "version": "3.8.2"
  }
 },
 "nbformat": 4,
 "nbformat_minor": 4
}
